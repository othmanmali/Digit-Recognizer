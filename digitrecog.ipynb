{
 "cells": [
  {
   "cell_type": "code",
   "execution_count": 1,
   "id": "2777d9e9",
   "metadata": {
    "_cell_guid": "b1076dfc-b9ad-4769-8c92-a6c4dae69d19",
    "_uuid": "8f2839f25d086af736a60e9eeb907d3b93b6e0e5",
    "execution": {
     "iopub.execute_input": "2021-10-17T12:40:07.704048Z",
     "iopub.status.busy": "2021-10-17T12:40:07.702495Z",
     "iopub.status.idle": "2021-10-17T12:40:12.949054Z",
     "shell.execute_reply": "2021-10-17T12:40:12.947947Z",
     "shell.execute_reply.started": "2021-10-17T12:01:18.056220Z"
    },
    "papermill": {
     "duration": 5.269039,
     "end_time": "2021-10-17T12:40:12.949223",
     "exception": false,
     "start_time": "2021-10-17T12:40:07.680184",
     "status": "completed"
    },
    "tags": []
   },
   "outputs": [
    {
     "name": "stderr",
     "output_type": "stream",
     "text": [
      "2021-10-17 12:40:09.162192: I tensorflow/stream_executor/platform/default/dso_loader.cc:49] Successfully opened dynamic library libcudart.so.11.0\n"
     ]
    }
   ],
   "source": [
    "from matplotlib.pyplot import imread,imshow\n",
    "import matplotlib.pyplot as plt\n",
    "from skimage.transform import resize\n",
    "from sklearn.utils import shuffle\n",
    "from tensorflow.keras.layers import *\n",
    "from tensorflow.keras.models import *\n",
    "from tensorflow.keras.optimizers import *\n",
    "from sklearn.model_selection import train_test_split\n",
    "from tensorflow.keras.utils import to_categorical\n",
    "import pandas as pd\n",
    "import numpy as np\n",
    "import glob\n",
    "from tensorflow.keras.callbacks import EarlyStopping\n",
    "from tensorflow.keras.datasets import mnist"
   ]
  },
  {
   "cell_type": "code",
   "execution_count": 2,
   "id": "030a361e",
   "metadata": {
    "execution": {
     "iopub.execute_input": "2021-10-17T12:40:12.989842Z",
     "iopub.status.busy": "2021-10-17T12:40:12.989264Z",
     "iopub.status.idle": "2021-10-17T12:40:18.075251Z",
     "shell.execute_reply": "2021-10-17T12:40:18.074803Z",
     "shell.execute_reply.started": "2021-10-17T12:01:23.295454Z"
    },
    "papermill": {
     "duration": 5.107997,
     "end_time": "2021-10-17T12:40:18.075377",
     "exception": false,
     "start_time": "2021-10-17T12:40:12.967380",
     "status": "completed"
    },
    "tags": []
   },
   "outputs": [
    {
     "name": "stdout",
     "output_type": "stream",
     "text": [
      "(42000, 785)\n"
     ]
    },
    {
     "data": {
      "text/html": [
       "<div>\n",
       "<style scoped>\n",
       "    .dataframe tbody tr th:only-of-type {\n",
       "        vertical-align: middle;\n",
       "    }\n",
       "\n",
       "    .dataframe tbody tr th {\n",
       "        vertical-align: top;\n",
       "    }\n",
       "\n",
       "    .dataframe thead th {\n",
       "        text-align: right;\n",
       "    }\n",
       "</style>\n",
       "<table border=\"1\" class=\"dataframe\">\n",
       "  <thead>\n",
       "    <tr style=\"text-align: right;\">\n",
       "      <th></th>\n",
       "      <th>label</th>\n",
       "      <th>pixel0</th>\n",
       "      <th>pixel1</th>\n",
       "      <th>pixel2</th>\n",
       "      <th>pixel3</th>\n",
       "      <th>pixel4</th>\n",
       "      <th>pixel5</th>\n",
       "      <th>pixel6</th>\n",
       "      <th>pixel7</th>\n",
       "      <th>pixel8</th>\n",
       "      <th>...</th>\n",
       "      <th>pixel774</th>\n",
       "      <th>pixel775</th>\n",
       "      <th>pixel776</th>\n",
       "      <th>pixel777</th>\n",
       "      <th>pixel778</th>\n",
       "      <th>pixel779</th>\n",
       "      <th>pixel780</th>\n",
       "      <th>pixel781</th>\n",
       "      <th>pixel782</th>\n",
       "      <th>pixel783</th>\n",
       "    </tr>\n",
       "  </thead>\n",
       "  <tbody>\n",
       "    <tr>\n",
       "      <th>0</th>\n",
       "      <td>1</td>\n",
       "      <td>0</td>\n",
       "      <td>0</td>\n",
       "      <td>0</td>\n",
       "      <td>0</td>\n",
       "      <td>0</td>\n",
       "      <td>0</td>\n",
       "      <td>0</td>\n",
       "      <td>0</td>\n",
       "      <td>0</td>\n",
       "      <td>...</td>\n",
       "      <td>0</td>\n",
       "      <td>0</td>\n",
       "      <td>0</td>\n",
       "      <td>0</td>\n",
       "      <td>0</td>\n",
       "      <td>0</td>\n",
       "      <td>0</td>\n",
       "      <td>0</td>\n",
       "      <td>0</td>\n",
       "      <td>0</td>\n",
       "    </tr>\n",
       "    <tr>\n",
       "      <th>1</th>\n",
       "      <td>0</td>\n",
       "      <td>0</td>\n",
       "      <td>0</td>\n",
       "      <td>0</td>\n",
       "      <td>0</td>\n",
       "      <td>0</td>\n",
       "      <td>0</td>\n",
       "      <td>0</td>\n",
       "      <td>0</td>\n",
       "      <td>0</td>\n",
       "      <td>...</td>\n",
       "      <td>0</td>\n",
       "      <td>0</td>\n",
       "      <td>0</td>\n",
       "      <td>0</td>\n",
       "      <td>0</td>\n",
       "      <td>0</td>\n",
       "      <td>0</td>\n",
       "      <td>0</td>\n",
       "      <td>0</td>\n",
       "      <td>0</td>\n",
       "    </tr>\n",
       "    <tr>\n",
       "      <th>2</th>\n",
       "      <td>1</td>\n",
       "      <td>0</td>\n",
       "      <td>0</td>\n",
       "      <td>0</td>\n",
       "      <td>0</td>\n",
       "      <td>0</td>\n",
       "      <td>0</td>\n",
       "      <td>0</td>\n",
       "      <td>0</td>\n",
       "      <td>0</td>\n",
       "      <td>...</td>\n",
       "      <td>0</td>\n",
       "      <td>0</td>\n",
       "      <td>0</td>\n",
       "      <td>0</td>\n",
       "      <td>0</td>\n",
       "      <td>0</td>\n",
       "      <td>0</td>\n",
       "      <td>0</td>\n",
       "      <td>0</td>\n",
       "      <td>0</td>\n",
       "    </tr>\n",
       "    <tr>\n",
       "      <th>3</th>\n",
       "      <td>4</td>\n",
       "      <td>0</td>\n",
       "      <td>0</td>\n",
       "      <td>0</td>\n",
       "      <td>0</td>\n",
       "      <td>0</td>\n",
       "      <td>0</td>\n",
       "      <td>0</td>\n",
       "      <td>0</td>\n",
       "      <td>0</td>\n",
       "      <td>...</td>\n",
       "      <td>0</td>\n",
       "      <td>0</td>\n",
       "      <td>0</td>\n",
       "      <td>0</td>\n",
       "      <td>0</td>\n",
       "      <td>0</td>\n",
       "      <td>0</td>\n",
       "      <td>0</td>\n",
       "      <td>0</td>\n",
       "      <td>0</td>\n",
       "    </tr>\n",
       "    <tr>\n",
       "      <th>4</th>\n",
       "      <td>0</td>\n",
       "      <td>0</td>\n",
       "      <td>0</td>\n",
       "      <td>0</td>\n",
       "      <td>0</td>\n",
       "      <td>0</td>\n",
       "      <td>0</td>\n",
       "      <td>0</td>\n",
       "      <td>0</td>\n",
       "      <td>0</td>\n",
       "      <td>...</td>\n",
       "      <td>0</td>\n",
       "      <td>0</td>\n",
       "      <td>0</td>\n",
       "      <td>0</td>\n",
       "      <td>0</td>\n",
       "      <td>0</td>\n",
       "      <td>0</td>\n",
       "      <td>0</td>\n",
       "      <td>0</td>\n",
       "      <td>0</td>\n",
       "    </tr>\n",
       "  </tbody>\n",
       "</table>\n",
       "<p>5 rows × 785 columns</p>\n",
       "</div>"
      ],
      "text/plain": [
       "   label  pixel0  pixel1  pixel2  pixel3  pixel4  pixel5  pixel6  pixel7  \\\n",
       "0      1       0       0       0       0       0       0       0       0   \n",
       "1      0       0       0       0       0       0       0       0       0   \n",
       "2      1       0       0       0       0       0       0       0       0   \n",
       "3      4       0       0       0       0       0       0       0       0   \n",
       "4      0       0       0       0       0       0       0       0       0   \n",
       "\n",
       "   pixel8  ...  pixel774  pixel775  pixel776  pixel777  pixel778  pixel779  \\\n",
       "0       0  ...         0         0         0         0         0         0   \n",
       "1       0  ...         0         0         0         0         0         0   \n",
       "2       0  ...         0         0         0         0         0         0   \n",
       "3       0  ...         0         0         0         0         0         0   \n",
       "4       0  ...         0         0         0         0         0         0   \n",
       "\n",
       "   pixel780  pixel781  pixel782  pixel783  \n",
       "0         0         0         0         0  \n",
       "1         0         0         0         0  \n",
       "2         0         0         0         0  \n",
       "3         0         0         0         0  \n",
       "4         0         0         0         0  \n",
       "\n",
       "[5 rows x 785 columns]"
      ]
     },
     "execution_count": 2,
     "metadata": {},
     "output_type": "execute_result"
    }
   ],
   "source": [
    "train = pd.read_csv(\"../input/digit-recognizer/train.csv\")\n",
    "test = pd.read_csv(\"../input/digit-recognizer/test.csv\")\n",
    "print(train.shape)\n",
    "train.head()"
   ]
  },
  {
   "cell_type": "markdown",
   "id": "2ce12f05",
   "metadata": {
    "papermill": {
     "duration": 0.018555,
     "end_time": "2021-10-17T12:40:18.112378",
     "exception": false,
     "start_time": "2021-10-17T12:40:18.093823",
     "status": "completed"
    },
    "tags": []
   },
   "source": [
    "# Data Preprocessing:"
   ]
  },
  {
   "cell_type": "markdown",
   "id": "b8f054cc",
   "metadata": {
    "papermill": {
     "duration": 0.017921,
     "end_time": "2021-10-17T12:40:18.149611",
     "exception": false,
     "start_time": "2021-10-17T12:40:18.131690",
     "status": "completed"
    },
    "tags": []
   },
   "source": [
    "**Split output (y) as the label of the data, and input (x) as the features (pixels)**\n",
    "\n",
    "**X test also, but note X_test has no labeled values**"
   ]
  },
  {
   "cell_type": "code",
   "execution_count": 3,
   "id": "fefa0da2",
   "metadata": {
    "execution": {
     "iopub.execute_input": "2021-10-17T12:40:18.191500Z",
     "iopub.status.busy": "2021-10-17T12:40:18.190584Z",
     "iopub.status.idle": "2021-10-17T12:40:18.288503Z",
     "shell.execute_reply": "2021-10-17T12:40:18.288038Z",
     "shell.execute_reply.started": "2021-10-17T12:01:28.029722Z"
    },
    "papermill": {
     "duration": 0.119849,
     "end_time": "2021-10-17T12:40:18.288635",
     "exception": false,
     "start_time": "2021-10-17T12:40:18.168786",
     "status": "completed"
    },
    "tags": []
   },
   "outputs": [],
   "source": [
    "X_train = (train.iloc[:,1:].values).astype('float32')\n",
    "y_train = train.iloc[:,0].values.astype('int32')\n",
    "\n",
    "X_test = test.values.astype('float32')"
   ]
  },
  {
   "cell_type": "markdown",
   "id": "7635dbb6",
   "metadata": {
    "papermill": {
     "duration": 0.017692,
     "end_time": "2021-10-17T12:40:18.324622",
     "exception": false,
     "start_time": "2021-10-17T12:40:18.306930",
     "status": "completed"
    },
    "tags": []
   },
   "source": [
    "****Reshape x to get the image shape, (m, nw, nh, nc), nc = 1 as it's black and white (if colored nc = 3)****"
   ]
  },
  {
   "cell_type": "code",
   "execution_count": 4,
   "id": "3be9562a",
   "metadata": {
    "execution": {
     "iopub.execute_input": "2021-10-17T12:40:18.367559Z",
     "iopub.status.busy": "2021-10-17T12:40:18.365769Z",
     "iopub.status.idle": "2021-10-17T12:40:18.369674Z",
     "shell.execute_reply": "2021-10-17T12:40:18.369222Z",
     "shell.execute_reply.started": "2021-10-17T12:01:28.132441Z"
    },
    "papermill": {
     "duration": 0.027195,
     "end_time": "2021-10-17T12:40:18.369776",
     "exception": false,
     "start_time": "2021-10-17T12:40:18.342581",
     "status": "completed"
    },
    "tags": []
   },
   "outputs": [
    {
     "name": "stdout",
     "output_type": "stream",
     "text": [
      "(42000, 28, 28, 1)\n",
      "(28000, 28, 28, 1)\n"
     ]
    }
   ],
   "source": [
    "X_train = X_train.reshape(X_train.shape[0], 28, 28, 1)\n",
    "print(X_train.shape)\n",
    "\n",
    "X_test = X_test.reshape(X_test.shape[0], 28, 28, 1)\n",
    "print(X_test.shape)"
   ]
  },
  {
   "cell_type": "markdown",
   "id": "7004c964",
   "metadata": {
    "papermill": {
     "duration": 0.017771,
     "end_time": "2021-10-17T12:40:18.406054",
     "exception": false,
     "start_time": "2021-10-17T12:40:18.388283",
     "status": "completed"
    },
    "tags": []
   },
   "source": [
    "**Rescale X , divided over 255, the maximum number of any pixel**"
   ]
  },
  {
   "cell_type": "code",
   "execution_count": 5,
   "id": "7b3e0905",
   "metadata": {
    "execution": {
     "iopub.execute_input": "2021-10-17T12:40:18.446269Z",
     "iopub.status.busy": "2021-10-17T12:40:18.445415Z",
     "iopub.status.idle": "2021-10-17T12:40:18.468623Z",
     "shell.execute_reply": "2021-10-17T12:40:18.468223Z",
     "shell.execute_reply.started": "2021-10-17T12:01:28.140016Z"
    },
    "papermill": {
     "duration": 0.044425,
     "end_time": "2021-10-17T12:40:18.468725",
     "exception": false,
     "start_time": "2021-10-17T12:40:18.424300",
     "status": "completed"
    },
    "tags": []
   },
   "outputs": [],
   "source": [
    "X_train /= 255\n",
    "X_test /= 255"
   ]
  },
  {
   "cell_type": "markdown",
   "id": "8feeeb68",
   "metadata": {
    "papermill": {
     "duration": 0.017848,
     "end_time": "2021-10-17T12:40:18.504705",
     "exception": false,
     "start_time": "2021-10-17T12:40:18.486857",
     "status": "completed"
    },
    "tags": []
   },
   "source": [
    "**Convert y train to one hot code, to be used in training**\n",
    "\n",
    "**One-time-run code, don't run it again**"
   ]
  },
  {
   "cell_type": "code",
   "execution_count": 6,
   "id": "f3c6c1a3",
   "metadata": {
    "execution": {
     "iopub.execute_input": "2021-10-17T12:40:18.545192Z",
     "iopub.status.busy": "2021-10-17T12:40:18.544655Z",
     "iopub.status.idle": "2021-10-17T12:40:18.547606Z",
     "shell.execute_reply": "2021-10-17T12:40:18.547176Z",
     "shell.execute_reply.started": "2021-10-17T12:01:28.170680Z"
    },
    "papermill": {
     "duration": 0.024793,
     "end_time": "2021-10-17T12:40:18.547706",
     "exception": false,
     "start_time": "2021-10-17T12:40:18.522913",
     "status": "completed"
    },
    "tags": []
   },
   "outputs": [],
   "source": [
    "y_train = to_categorical(y_train, 10)\n",
    "# y_train"
   ]
  },
  {
   "cell_type": "markdown",
   "id": "41f64fe5",
   "metadata": {
    "papermill": {
     "duration": 0.018043,
     "end_time": "2021-10-17T12:40:18.583706",
     "exception": false,
     "start_time": "2021-10-17T12:40:18.565663",
     "status": "completed"
    },
    "tags": []
   },
   "source": [
    "# ****Creating Model****"
   ]
  },
  {
   "cell_type": "code",
   "execution_count": 7,
   "id": "a6080c06",
   "metadata": {
    "execution": {
     "iopub.execute_input": "2021-10-17T12:40:18.626156Z",
     "iopub.status.busy": "2021-10-17T12:40:18.625091Z",
     "iopub.status.idle": "2021-10-17T12:40:20.492974Z",
     "shell.execute_reply": "2021-10-17T12:40:20.492436Z",
     "shell.execute_reply.started": "2021-10-17T12:26:50.515648Z"
    },
    "papermill": {
     "duration": 1.891036,
     "end_time": "2021-10-17T12:40:20.493104",
     "exception": false,
     "start_time": "2021-10-17T12:40:18.602068",
     "status": "completed"
    },
    "tags": []
   },
   "outputs": [
    {
     "name": "stderr",
     "output_type": "stream",
     "text": [
      "2021-10-17 12:40:18.649048: I tensorflow/compiler/jit/xla_cpu_device.cc:41] Not creating XLA devices, tf_xla_enable_xla_devices not set\n",
      "2021-10-17 12:40:18.652592: I tensorflow/stream_executor/platform/default/dso_loader.cc:49] Successfully opened dynamic library libcuda.so.1\n",
      "2021-10-17 12:40:18.703588: I tensorflow/stream_executor/cuda/cuda_gpu_executor.cc:941] successful NUMA node read from SysFS had negative value (-1), but there must be at least one NUMA node, so returning NUMA node zero\n",
      "2021-10-17 12:40:18.704265: I tensorflow/core/common_runtime/gpu/gpu_device.cc:1720] Found device 0 with properties: \n",
      "pciBusID: 0000:00:04.0 name: Tesla P100-PCIE-16GB computeCapability: 6.0\n",
      "coreClock: 1.3285GHz coreCount: 56 deviceMemorySize: 15.90GiB deviceMemoryBandwidth: 681.88GiB/s\n",
      "2021-10-17 12:40:18.704334: I tensorflow/stream_executor/platform/default/dso_loader.cc:49] Successfully opened dynamic library libcudart.so.11.0\n",
      "2021-10-17 12:40:18.732241: I tensorflow/stream_executor/platform/default/dso_loader.cc:49] Successfully opened dynamic library libcublas.so.11\n",
      "2021-10-17 12:40:18.732329: I tensorflow/stream_executor/platform/default/dso_loader.cc:49] Successfully opened dynamic library libcublasLt.so.11\n",
      "2021-10-17 12:40:18.748357: I tensorflow/stream_executor/platform/default/dso_loader.cc:49] Successfully opened dynamic library libcufft.so.10\n",
      "2021-10-17 12:40:18.757447: I tensorflow/stream_executor/platform/default/dso_loader.cc:49] Successfully opened dynamic library libcurand.so.10\n",
      "2021-10-17 12:40:18.782283: I tensorflow/stream_executor/platform/default/dso_loader.cc:49] Successfully opened dynamic library libcusolver.so.10\n",
      "2021-10-17 12:40:18.789381: I tensorflow/stream_executor/platform/default/dso_loader.cc:49] Successfully opened dynamic library libcusparse.so.11\n",
      "2021-10-17 12:40:18.792916: I tensorflow/stream_executor/platform/default/dso_loader.cc:49] Successfully opened dynamic library libcudnn.so.8\n",
      "2021-10-17 12:40:18.793075: I tensorflow/stream_executor/cuda/cuda_gpu_executor.cc:941] successful NUMA node read from SysFS had negative value (-1), but there must be at least one NUMA node, so returning NUMA node zero\n",
      "2021-10-17 12:40:18.793783: I tensorflow/stream_executor/cuda/cuda_gpu_executor.cc:941] successful NUMA node read from SysFS had negative value (-1), but there must be at least one NUMA node, so returning NUMA node zero\n",
      "2021-10-17 12:40:18.795205: I tensorflow/core/common_runtime/gpu/gpu_device.cc:1862] Adding visible gpu devices: 0\n",
      "2021-10-17 12:40:18.796124: I tensorflow/core/platform/cpu_feature_guard.cc:142] This TensorFlow binary is optimized with oneAPI Deep Neural Network Library (oneDNN) to use the following CPU instructions in performance-critical operations:  AVX2 AVX512F FMA\n",
      "To enable them in other operations, rebuild TensorFlow with the appropriate compiler flags.\n",
      "2021-10-17 12:40:18.796338: I tensorflow/compiler/jit/xla_gpu_device.cc:99] Not creating XLA devices, tf_xla_enable_xla_devices not set\n",
      "2021-10-17 12:40:18.796506: I tensorflow/stream_executor/cuda/cuda_gpu_executor.cc:941] successful NUMA node read from SysFS had negative value (-1), but there must be at least one NUMA node, so returning NUMA node zero\n",
      "2021-10-17 12:40:18.797074: I tensorflow/core/common_runtime/gpu/gpu_device.cc:1720] Found device 0 with properties: \n",
      "pciBusID: 0000:00:04.0 name: Tesla P100-PCIE-16GB computeCapability: 6.0\n",
      "coreClock: 1.3285GHz coreCount: 56 deviceMemorySize: 15.90GiB deviceMemoryBandwidth: 681.88GiB/s\n",
      "2021-10-17 12:40:18.797119: I tensorflow/stream_executor/platform/default/dso_loader.cc:49] Successfully opened dynamic library libcudart.so.11.0\n",
      "2021-10-17 12:40:18.797142: I tensorflow/stream_executor/platform/default/dso_loader.cc:49] Successfully opened dynamic library libcublas.so.11\n",
      "2021-10-17 12:40:18.797159: I tensorflow/stream_executor/platform/default/dso_loader.cc:49] Successfully opened dynamic library libcublasLt.so.11\n",
      "2021-10-17 12:40:18.797176: I tensorflow/stream_executor/platform/default/dso_loader.cc:49] Successfully opened dynamic library libcufft.so.10\n",
      "2021-10-17 12:40:18.797193: I tensorflow/stream_executor/platform/default/dso_loader.cc:49] Successfully opened dynamic library libcurand.so.10\n",
      "2021-10-17 12:40:18.797210: I tensorflow/stream_executor/platform/default/dso_loader.cc:49] Successfully opened dynamic library libcusolver.so.10\n",
      "2021-10-17 12:40:18.797228: I tensorflow/stream_executor/platform/default/dso_loader.cc:49] Successfully opened dynamic library libcusparse.so.11\n",
      "2021-10-17 12:40:18.797246: I tensorflow/stream_executor/platform/default/dso_loader.cc:49] Successfully opened dynamic library libcudnn.so.8\n",
      "2021-10-17 12:40:18.797331: I tensorflow/stream_executor/cuda/cuda_gpu_executor.cc:941] successful NUMA node read from SysFS had negative value (-1), but there must be at least one NUMA node, so returning NUMA node zero\n",
      "2021-10-17 12:40:18.797969: I tensorflow/stream_executor/cuda/cuda_gpu_executor.cc:941] successful NUMA node read from SysFS had negative value (-1), but there must be at least one NUMA node, so returning NUMA node zero\n",
      "2021-10-17 12:40:18.798519: I tensorflow/core/common_runtime/gpu/gpu_device.cc:1862] Adding visible gpu devices: 0\n",
      "2021-10-17 12:40:18.799370: I tensorflow/stream_executor/platform/default/dso_loader.cc:49] Successfully opened dynamic library libcudart.so.11.0\n",
      "2021-10-17 12:40:20.118398: I tensorflow/core/common_runtime/gpu/gpu_device.cc:1261] Device interconnect StreamExecutor with strength 1 edge matrix:\n",
      "2021-10-17 12:40:20.118453: I tensorflow/core/common_runtime/gpu/gpu_device.cc:1267]      0 \n",
      "2021-10-17 12:40:20.118465: I tensorflow/core/common_runtime/gpu/gpu_device.cc:1280] 0:   N \n",
      "2021-10-17 12:40:20.120772: I tensorflow/stream_executor/cuda/cuda_gpu_executor.cc:941] successful NUMA node read from SysFS had negative value (-1), but there must be at least one NUMA node, so returning NUMA node zero\n",
      "2021-10-17 12:40:20.121465: I tensorflow/stream_executor/cuda/cuda_gpu_executor.cc:941] successful NUMA node read from SysFS had negative value (-1), but there must be at least one NUMA node, so returning NUMA node zero\n",
      "2021-10-17 12:40:20.122156: I tensorflow/stream_executor/cuda/cuda_gpu_executor.cc:941] successful NUMA node read from SysFS had negative value (-1), but there must be at least one NUMA node, so returning NUMA node zero\n",
      "2021-10-17 12:40:20.122742: I tensorflow/core/common_runtime/gpu/gpu_device.cc:1406] Created TensorFlow device (/job:localhost/replica:0/task:0/device:GPU:0 with 14957 MB memory) -> physical GPU (device: 0, name: Tesla P100-PCIE-16GB, pci bus id: 0000:00:04.0, compute capability: 6.0)\n"
     ]
    }
   ],
   "source": [
    "model = Sequential([\n",
    "    \n",
    "    Conv2D(filters=64, kernel_size=7, strides=1, activation='relu', input_shape=(28,28,1)), # 22 x 22 x 64\n",
    "    MaxPooling2D(pool_size=2, strides=2), # 11 x 11 x 64\n",
    "    BatchNormalization(),\n",
    "    Conv2D(128, (5,5), activation='relu'), # 7 x 7 x 128\n",
    "    MaxPooling2D(pool_size=2), #as 7 isn't divisble by 2, we don't choose stride=2 for pooling instead default= 1\n",
    "    # 3 x 3 x 128\n",
    "    Conv2D(256, (3,3), activation='relu'), # 1 x 1 x 256\n",
    "    Flatten(), # 256\n",
    "    Dense(1000, activation='relu'), # 1000\n",
    "    Dense(10, activation='softmax') #for multiclassification we use softmax\n",
    "    \n",
    "])"
   ]
  },
  {
   "cell_type": "markdown",
   "id": "f352ac3b",
   "metadata": {
    "papermill": {
     "duration": 0.018699,
     "end_time": "2021-10-17T12:40:20.531149",
     "exception": false,
     "start_time": "2021-10-17T12:40:20.512450",
     "status": "completed"
    },
    "tags": []
   },
   "source": [
    "# Compiling the model:\n",
    "1. loss done by using categorical loss function as the problem is categorical (numbers 0 - 9)\n",
    "2. We always use adam as it's the best optimizer shares the characteristics of RMSprop and Momentun\n",
    "3. We can choose any metric to evaluate our model, i always choose accuracy"
   ]
  },
  {
   "cell_type": "code",
   "execution_count": 8,
   "id": "a81848fd",
   "metadata": {
    "execution": {
     "iopub.execute_input": "2021-10-17T12:40:20.574341Z",
     "iopub.status.busy": "2021-10-17T12:40:20.573614Z",
     "iopub.status.idle": "2021-10-17T12:40:20.722890Z",
     "shell.execute_reply": "2021-10-17T12:40:20.722420Z",
     "shell.execute_reply.started": "2021-10-17T12:26:51.629734Z"
    },
    "papermill": {
     "duration": 0.173144,
     "end_time": "2021-10-17T12:40:20.723017",
     "exception": false,
     "start_time": "2021-10-17T12:40:20.549873",
     "status": "completed"
    },
    "tags": []
   },
   "outputs": [],
   "source": [
    "model.compile(loss='categorical_crossentropy', optimizer='adam', metrics='accuracy')"
   ]
  },
  {
   "cell_type": "code",
   "execution_count": 9,
   "id": "ff9a3150",
   "metadata": {
    "execution": {
     "iopub.execute_input": "2021-10-17T12:40:20.770629Z",
     "iopub.status.busy": "2021-10-17T12:40:20.769846Z",
     "iopub.status.idle": "2021-10-17T12:40:20.773289Z",
     "shell.execute_reply": "2021-10-17T12:40:20.771121Z",
     "shell.execute_reply.started": "2021-10-17T12:26:52.134254Z"
    },
    "papermill": {
     "duration": 0.031284,
     "end_time": "2021-10-17T12:40:20.773397",
     "exception": false,
     "start_time": "2021-10-17T12:40:20.742113",
     "status": "completed"
    },
    "tags": []
   },
   "outputs": [
    {
     "name": "stdout",
     "output_type": "stream",
     "text": [
      "Model: \"sequential\"\n",
      "_________________________________________________________________\n",
      "Layer (type)                 Output Shape              Param #   \n",
      "=================================================================\n",
      "conv2d (Conv2D)              (None, 22, 22, 64)        3200      \n",
      "_________________________________________________________________\n",
      "max_pooling2d (MaxPooling2D) (None, 11, 11, 64)        0         \n",
      "_________________________________________________________________\n",
      "batch_normalization (BatchNo (None, 11, 11, 64)        256       \n",
      "_________________________________________________________________\n",
      "conv2d_1 (Conv2D)            (None, 7, 7, 128)         204928    \n",
      "_________________________________________________________________\n",
      "max_pooling2d_1 (MaxPooling2 (None, 3, 3, 128)         0         \n",
      "_________________________________________________________________\n",
      "conv2d_2 (Conv2D)            (None, 1, 1, 256)         295168    \n",
      "_________________________________________________________________\n",
      "flatten (Flatten)            (None, 256)               0         \n",
      "_________________________________________________________________\n",
      "dense (Dense)                (None, 1000)              257000    \n",
      "_________________________________________________________________\n",
      "dense_1 (Dense)              (None, 10)                10010     \n",
      "=================================================================\n",
      "Total params: 770,562\n",
      "Trainable params: 770,434\n",
      "Non-trainable params: 128\n",
      "_________________________________________________________________\n"
     ]
    }
   ],
   "source": [
    "model.summary()"
   ]
  },
  {
   "cell_type": "markdown",
   "id": "e18dffad",
   "metadata": {
    "papermill": {
     "duration": 0.018893,
     "end_time": "2021-10-17T12:40:20.811272",
     "exception": false,
     "start_time": "2021-10-17T12:40:20.792379",
     "status": "completed"
    },
    "tags": []
   },
   "source": [
    "# Model Training:"
   ]
  },
  {
   "cell_type": "code",
   "execution_count": 10,
   "id": "a1febc49",
   "metadata": {
    "execution": {
     "iopub.execute_input": "2021-10-17T12:40:20.852305Z",
     "iopub.status.busy": "2021-10-17T12:40:20.851809Z",
     "iopub.status.idle": "2021-10-17T12:40:20.855017Z",
     "shell.execute_reply": "2021-10-17T12:40:20.855369Z",
     "shell.execute_reply.started": "2021-10-17T12:27:02.989484Z"
    },
    "papermill": {
     "duration": 0.025379,
     "end_time": "2021-10-17T12:40:20.855498",
     "exception": false,
     "start_time": "2021-10-17T12:40:20.830119",
     "status": "completed"
    },
    "tags": []
   },
   "outputs": [],
   "source": [
    "ES = EarlyStopping(monitor='val_loss', mode='min', patience=5)"
   ]
  },
  {
   "cell_type": "code",
   "execution_count": 11,
   "id": "6f20a980",
   "metadata": {
    "execution": {
     "iopub.execute_input": "2021-10-17T12:40:20.897493Z",
     "iopub.status.busy": "2021-10-17T12:40:20.896817Z",
     "iopub.status.idle": "2021-10-17T12:41:05.708333Z",
     "shell.execute_reply": "2021-10-17T12:41:05.707920Z",
     "shell.execute_reply.started": "2021-10-17T12:27:03.359520Z"
    },
    "papermill": {
     "duration": 44.834124,
     "end_time": "2021-10-17T12:41:05.708455",
     "exception": false,
     "start_time": "2021-10-17T12:40:20.874331",
     "status": "completed"
    },
    "tags": []
   },
   "outputs": [
    {
     "name": "stderr",
     "output_type": "stream",
     "text": [
      "2021-10-17 12:40:21.099710: I tensorflow/compiler/mlir/mlir_graph_optimization_pass.cc:116] None of the MLIR optimization passes are enabled (registered 2)\n",
      "2021-10-17 12:40:21.110973: I tensorflow/core/platform/profile_utils/cpu_utils.cc:112] CPU Frequency: 2000189999 Hz\n"
     ]
    },
    {
     "name": "stdout",
     "output_type": "stream",
     "text": [
      "Epoch 1/20\n"
     ]
    },
    {
     "name": "stderr",
     "output_type": "stream",
     "text": [
      "2021-10-17 12:40:21.669678: I tensorflow/stream_executor/platform/default/dso_loader.cc:49] Successfully opened dynamic library libcublas.so.11\n",
      "2021-10-17 12:40:22.454125: I tensorflow/stream_executor/platform/default/dso_loader.cc:49] Successfully opened dynamic library libcublasLt.so.11\n",
      "2021-10-17 12:40:22.465726: I tensorflow/stream_executor/platform/default/dso_loader.cc:49] Successfully opened dynamic library libcudnn.so.8\n"
     ]
    },
    {
     "name": "stdout",
     "output_type": "stream",
     "text": [
      "378/378 [==============================] - 9s 6ms/step - loss: 0.3118 - accuracy: 0.9015 - val_loss: 0.2567 - val_accuracy: 0.9729\n",
      "Epoch 2/20\n",
      "378/378 [==============================] - 2s 5ms/step - loss: 0.0546 - accuracy: 0.9830 - val_loss: 0.0526 - val_accuracy: 0.9845\n",
      "Epoch 3/20\n",
      "378/378 [==============================] - 2s 5ms/step - loss: 0.0308 - accuracy: 0.9898 - val_loss: 0.0489 - val_accuracy: 0.9864\n",
      "Epoch 4/20\n",
      "378/378 [==============================] - 2s 5ms/step - loss: 0.0218 - accuracy: 0.9923 - val_loss: 0.0521 - val_accuracy: 0.9850\n",
      "Epoch 5/20\n",
      "378/378 [==============================] - 2s 5ms/step - loss: 0.0197 - accuracy: 0.9936 - val_loss: 0.0372 - val_accuracy: 0.9900\n",
      "Epoch 6/20\n",
      "378/378 [==============================] - 2s 5ms/step - loss: 0.0188 - accuracy: 0.9938 - val_loss: 0.0385 - val_accuracy: 0.9890\n",
      "Epoch 7/20\n",
      "378/378 [==============================] - 2s 5ms/step - loss: 0.0149 - accuracy: 0.9952 - val_loss: 0.0402 - val_accuracy: 0.9890\n",
      "Epoch 8/20\n",
      "378/378 [==============================] - 2s 5ms/step - loss: 0.0103 - accuracy: 0.9969 - val_loss: 0.0630 - val_accuracy: 0.9848\n",
      "Epoch 9/20\n",
      "378/378 [==============================] - 2s 5ms/step - loss: 0.0161 - accuracy: 0.9950 - val_loss: 0.0280 - val_accuracy: 0.9921\n",
      "Epoch 10/20\n",
      "378/378 [==============================] - 2s 5ms/step - loss: 0.0093 - accuracy: 0.9976 - val_loss: 0.0445 - val_accuracy: 0.9867\n",
      "Epoch 11/20\n",
      "378/378 [==============================] - 2s 5ms/step - loss: 0.0121 - accuracy: 0.9963 - val_loss: 0.0660 - val_accuracy: 0.9860\n",
      "Epoch 12/20\n",
      "378/378 [==============================] - 2s 5ms/step - loss: 0.0113 - accuracy: 0.9967 - val_loss: 0.0424 - val_accuracy: 0.9905\n",
      "Epoch 13/20\n",
      "378/378 [==============================] - 2s 5ms/step - loss: 0.0161 - accuracy: 0.9956 - val_loss: 0.0479 - val_accuracy: 0.9890\n",
      "Epoch 14/20\n",
      "378/378 [==============================] - 2s 5ms/step - loss: 0.0121 - accuracy: 0.9970 - val_loss: 0.0465 - val_accuracy: 0.9893\n",
      "Epoch 15/20\n",
      "378/378 [==============================] - 2s 5ms/step - loss: 0.0140 - accuracy: 0.9963 - val_loss: 0.0530 - val_accuracy: 0.9883\n",
      "Epoch 16/20\n",
      "378/378 [==============================] - 2s 5ms/step - loss: 0.0074 - accuracy: 0.9982 - val_loss: 0.0555 - val_accuracy: 0.9881\n",
      "Epoch 17/20\n",
      "378/378 [==============================] - 2s 6ms/step - loss: 0.0052 - accuracy: 0.9984 - val_loss: 0.0347 - val_accuracy: 0.9921\n",
      "Epoch 18/20\n",
      "378/378 [==============================] - 2s 5ms/step - loss: 0.0137 - accuracy: 0.9966 - val_loss: 0.0712 - val_accuracy: 0.9857\n",
      "Epoch 19/20\n",
      "378/378 [==============================] - 2s 5ms/step - loss: 0.0058 - accuracy: 0.9985 - val_loss: 0.0431 - val_accuracy: 0.9912\n",
      "Epoch 20/20\n",
      "378/378 [==============================] - 2s 5ms/step - loss: 0.0076 - accuracy: 0.9979 - val_loss: 0.0680 - val_accuracy: 0.9867\n"
     ]
    }
   ],
   "source": [
    "history = model.fit(X_train, y_train, batch_size=100, epochs=20, validation_split=0.1)"
   ]
  },
  {
   "cell_type": "code",
   "execution_count": 12,
   "id": "f0ff5be9",
   "metadata": {
    "execution": {
     "iopub.execute_input": "2021-10-17T12:41:06.107106Z",
     "iopub.status.busy": "2021-10-17T12:41:06.106455Z",
     "iopub.status.idle": "2021-10-17T12:41:06.109698Z",
     "shell.execute_reply": "2021-10-17T12:41:06.110092Z",
     "shell.execute_reply.started": "2021-10-17T12:28:01.012679Z"
    },
    "papermill": {
     "duration": 0.210077,
     "end_time": "2021-10-17T12:41:06.110217",
     "exception": false,
     "start_time": "2021-10-17T12:41:05.900140",
     "status": "completed"
    },
    "tags": []
   },
   "outputs": [
    {
     "data": {
      "text/html": [
       "<div>\n",
       "<style scoped>\n",
       "    .dataframe tbody tr th:only-of-type {\n",
       "        vertical-align: middle;\n",
       "    }\n",
       "\n",
       "    .dataframe tbody tr th {\n",
       "        vertical-align: top;\n",
       "    }\n",
       "\n",
       "    .dataframe thead th {\n",
       "        text-align: right;\n",
       "    }\n",
       "</style>\n",
       "<table border=\"1\" class=\"dataframe\">\n",
       "  <thead>\n",
       "    <tr style=\"text-align: right;\">\n",
       "      <th></th>\n",
       "      <th>loss</th>\n",
       "      <th>accuracy</th>\n",
       "      <th>val_loss</th>\n",
       "      <th>val_accuracy</th>\n",
       "    </tr>\n",
       "  </thead>\n",
       "  <tbody>\n",
       "    <tr>\n",
       "      <th>0</th>\n",
       "      <td>0.143306</td>\n",
       "      <td>0.955556</td>\n",
       "      <td>0.256658</td>\n",
       "      <td>0.972857</td>\n",
       "    </tr>\n",
       "    <tr>\n",
       "      <th>1</th>\n",
       "      <td>0.053264</td>\n",
       "      <td>0.983889</td>\n",
       "      <td>0.052613</td>\n",
       "      <td>0.984524</td>\n",
       "    </tr>\n",
       "    <tr>\n",
       "      <th>2</th>\n",
       "      <td>0.034458</td>\n",
       "      <td>0.989153</td>\n",
       "      <td>0.048927</td>\n",
       "      <td>0.986429</td>\n",
       "    </tr>\n",
       "    <tr>\n",
       "      <th>3</th>\n",
       "      <td>0.025693</td>\n",
       "      <td>0.991561</td>\n",
       "      <td>0.052126</td>\n",
       "      <td>0.985000</td>\n",
       "    </tr>\n",
       "    <tr>\n",
       "      <th>4</th>\n",
       "      <td>0.023059</td>\n",
       "      <td>0.992936</td>\n",
       "      <td>0.037168</td>\n",
       "      <td>0.990000</td>\n",
       "    </tr>\n",
       "    <tr>\n",
       "      <th>5</th>\n",
       "      <td>0.022529</td>\n",
       "      <td>0.992646</td>\n",
       "      <td>0.038456</td>\n",
       "      <td>0.989048</td>\n",
       "    </tr>\n",
       "    <tr>\n",
       "      <th>6</th>\n",
       "      <td>0.017154</td>\n",
       "      <td>0.994709</td>\n",
       "      <td>0.040157</td>\n",
       "      <td>0.989048</td>\n",
       "    </tr>\n",
       "    <tr>\n",
       "      <th>7</th>\n",
       "      <td>0.015464</td>\n",
       "      <td>0.995423</td>\n",
       "      <td>0.062984</td>\n",
       "      <td>0.984762</td>\n",
       "    </tr>\n",
       "    <tr>\n",
       "      <th>8</th>\n",
       "      <td>0.015733</td>\n",
       "      <td>0.995053</td>\n",
       "      <td>0.027962</td>\n",
       "      <td>0.992143</td>\n",
       "    </tr>\n",
       "    <tr>\n",
       "      <th>9</th>\n",
       "      <td>0.011946</td>\n",
       "      <td>0.996693</td>\n",
       "      <td>0.044514</td>\n",
       "      <td>0.986667</td>\n",
       "    </tr>\n",
       "    <tr>\n",
       "      <th>10</th>\n",
       "      <td>0.013238</td>\n",
       "      <td>0.996085</td>\n",
       "      <td>0.066021</td>\n",
       "      <td>0.985952</td>\n",
       "    </tr>\n",
       "    <tr>\n",
       "      <th>11</th>\n",
       "      <td>0.010613</td>\n",
       "      <td>0.996799</td>\n",
       "      <td>0.042381</td>\n",
       "      <td>0.990476</td>\n",
       "    </tr>\n",
       "    <tr>\n",
       "      <th>12</th>\n",
       "      <td>0.014909</td>\n",
       "      <td>0.995873</td>\n",
       "      <td>0.047919</td>\n",
       "      <td>0.989048</td>\n",
       "    </tr>\n",
       "    <tr>\n",
       "      <th>13</th>\n",
       "      <td>0.013131</td>\n",
       "      <td>0.996905</td>\n",
       "      <td>0.046533</td>\n",
       "      <td>0.989286</td>\n",
       "    </tr>\n",
       "    <tr>\n",
       "      <th>14</th>\n",
       "      <td>0.012618</td>\n",
       "      <td>0.996931</td>\n",
       "      <td>0.053003</td>\n",
       "      <td>0.988333</td>\n",
       "    </tr>\n",
       "    <tr>\n",
       "      <th>15</th>\n",
       "      <td>0.007049</td>\n",
       "      <td>0.998122</td>\n",
       "      <td>0.055526</td>\n",
       "      <td>0.988095</td>\n",
       "    </tr>\n",
       "    <tr>\n",
       "      <th>16</th>\n",
       "      <td>0.008095</td>\n",
       "      <td>0.997936</td>\n",
       "      <td>0.034745</td>\n",
       "      <td>0.992143</td>\n",
       "    </tr>\n",
       "    <tr>\n",
       "      <th>17</th>\n",
       "      <td>0.014672</td>\n",
       "      <td>0.996667</td>\n",
       "      <td>0.071205</td>\n",
       "      <td>0.985714</td>\n",
       "    </tr>\n",
       "    <tr>\n",
       "      <th>18</th>\n",
       "      <td>0.004050</td>\n",
       "      <td>0.999048</td>\n",
       "      <td>0.043066</td>\n",
       "      <td>0.991190</td>\n",
       "    </tr>\n",
       "    <tr>\n",
       "      <th>19</th>\n",
       "      <td>0.011513</td>\n",
       "      <td>0.996984</td>\n",
       "      <td>0.067955</td>\n",
       "      <td>0.986667</td>\n",
       "    </tr>\n",
       "  </tbody>\n",
       "</table>\n",
       "</div>"
      ],
      "text/plain": [
       "        loss  accuracy  val_loss  val_accuracy\n",
       "0   0.143306  0.955556  0.256658      0.972857\n",
       "1   0.053264  0.983889  0.052613      0.984524\n",
       "2   0.034458  0.989153  0.048927      0.986429\n",
       "3   0.025693  0.991561  0.052126      0.985000\n",
       "4   0.023059  0.992936  0.037168      0.990000\n",
       "5   0.022529  0.992646  0.038456      0.989048\n",
       "6   0.017154  0.994709  0.040157      0.989048\n",
       "7   0.015464  0.995423  0.062984      0.984762\n",
       "8   0.015733  0.995053  0.027962      0.992143\n",
       "9   0.011946  0.996693  0.044514      0.986667\n",
       "10  0.013238  0.996085  0.066021      0.985952\n",
       "11  0.010613  0.996799  0.042381      0.990476\n",
       "12  0.014909  0.995873  0.047919      0.989048\n",
       "13  0.013131  0.996905  0.046533      0.989286\n",
       "14  0.012618  0.996931  0.053003      0.988333\n",
       "15  0.007049  0.998122  0.055526      0.988095\n",
       "16  0.008095  0.997936  0.034745      0.992143\n",
       "17  0.014672  0.996667  0.071205      0.985714\n",
       "18  0.004050  0.999048  0.043066      0.991190\n",
       "19  0.011513  0.996984  0.067955      0.986667"
      ]
     },
     "execution_count": 12,
     "metadata": {},
     "output_type": "execute_result"
    }
   ],
   "source": [
    "history = pd.DataFrame(history.history)\n",
    "history"
   ]
  },
  {
   "cell_type": "markdown",
   "id": "961770ef",
   "metadata": {
    "papermill": {
     "duration": 0.191228,
     "end_time": "2021-10-17T12:41:06.496860",
     "exception": false,
     "start_time": "2021-10-17T12:41:06.305632",
     "status": "completed"
    },
    "tags": []
   },
   "source": [
    "# Visualize the training examples:"
   ]
  },
  {
   "cell_type": "code",
   "execution_count": 13,
   "id": "e61a2a7c",
   "metadata": {
    "execution": {
     "iopub.execute_input": "2021-10-17T12:41:07.020382Z",
     "iopub.status.busy": "2021-10-17T12:41:07.019590Z",
     "iopub.status.idle": "2021-10-17T12:41:07.316187Z",
     "shell.execute_reply": "2021-10-17T12:41:07.316606Z",
     "shell.execute_reply.started": "2021-10-17T12:30:25.456460Z"
    },
    "papermill": {
     "duration": 0.628405,
     "end_time": "2021-10-17T12:41:07.316761",
     "exception": false,
     "start_time": "2021-10-17T12:41:06.688356",
     "status": "completed"
    },
    "tags": []
   },
   "outputs": [
    {
     "name": "stdout",
     "output_type": "stream",
     "text": [
      "Predicted Value  :  3\n"
     ]
    },
    {
     "data": {
      "image/png": "[encoded data removed]",
      "text/plain": [
       "<Figure size 432x432 with 1 Axes>"
      ]
     },
     "metadata": {
      "needs_background": "light"
     },
     "output_type": "display_data"
    }
   ],
   "source": [
    "fig = plt.figure(figsize=(6,6))\n",
    "num = 9\n",
    "plt.imshow(X_train[num])\n",
    "print(\"Predicted Value  : \", np.argmax(y_train[num]))"
   ]
  },
  {
   "cell_type": "markdown",
   "id": "a676eaec",
   "metadata": {
    "papermill": {
     "duration": 0.192304,
     "end_time": "2021-10-17T12:41:07.701099",
     "exception": false,
     "start_time": "2021-10-17T12:41:07.508795",
     "status": "completed"
    },
    "tags": []
   },
   "source": [
    "# Predict and Submit:"
   ]
  },
  {
   "cell_type": "code",
   "execution_count": 14,
   "id": "283e7153",
   "metadata": {
    "execution": {
     "iopub.execute_input": "2021-10-17T12:41:08.089935Z",
     "iopub.status.busy": "2021-10-17T12:41:08.089243Z",
     "iopub.status.idle": "2021-10-17T12:41:09.283691Z",
     "shell.execute_reply": "2021-10-17T12:41:09.283167Z",
     "shell.execute_reply.started": "2021-10-17T12:31:54.000400Z"
    },
    "papermill": {
     "duration": 1.391236,
     "end_time": "2021-10-17T12:41:09.283837",
     "exception": false,
     "start_time": "2021-10-17T12:41:07.892601",
     "status": "completed"
    },
    "tags": []
   },
   "outputs": [],
   "source": [
    "predictions = model.predict(X_test)"
   ]
  },
  {
   "cell_type": "code",
   "execution_count": 15,
   "id": "f0c28c8c",
   "metadata": {
    "execution": {
     "iopub.execute_input": "2021-10-17T12:41:09.673013Z",
     "iopub.status.busy": "2021-10-17T12:41:09.672399Z",
     "iopub.status.idle": "2021-10-17T12:41:09.675035Z",
     "shell.execute_reply": "2021-10-17T12:41:09.675436Z",
     "shell.execute_reply.started": "2021-10-17T12:32:13.689774Z"
    },
    "papermill": {
     "duration": 0.199418,
     "end_time": "2021-10-17T12:41:09.675580",
     "exception": false,
     "start_time": "2021-10-17T12:41:09.476162",
     "status": "completed"
    },
    "tags": []
   },
   "outputs": [
    {
     "data": {
      "text/plain": [
       "(28000, 10)"
      ]
     },
     "execution_count": 15,
     "metadata": {},
     "output_type": "execute_result"
    }
   ],
   "source": [
    "predictions.shape"
   ]
  },
  {
   "cell_type": "code",
   "execution_count": 16,
   "id": "082bd93b",
   "metadata": {
    "execution": {
     "iopub.execute_input": "2021-10-17T12:41:10.072067Z",
     "iopub.status.busy": "2021-10-17T12:41:10.071119Z",
     "iopub.status.idle": "2021-10-17T12:41:10.077151Z",
     "shell.execute_reply": "2021-10-17T12:41:10.076749Z",
     "shell.execute_reply.started": "2021-10-17T12:33:51.392427Z"
    },
    "papermill": {
     "duration": 0.202468,
     "end_time": "2021-10-17T12:41:10.077255",
     "exception": false,
     "start_time": "2021-10-17T12:41:09.874787",
     "status": "completed"
    },
    "tags": []
   },
   "outputs": [
    {
     "data": {
      "text/plain": [
       "array([2, 0, 9, ..., 3, 9, 2])"
      ]
     },
     "execution_count": 16,
     "metadata": {},
     "output_type": "execute_result"
    }
   ],
   "source": [
    "pred = np.argmax(predictions, axis=1)\n",
    "pred"
   ]
  },
  {
   "cell_type": "code",
   "execution_count": 17,
   "id": "7a6a6508",
   "metadata": {
    "execution": {
     "iopub.execute_input": "2021-10-17T12:41:10.490794Z",
     "iopub.status.busy": "2021-10-17T12:41:10.489434Z",
     "iopub.status.idle": "2021-10-17T12:41:10.661754Z",
     "shell.execute_reply": "2021-10-17T12:41:10.662135Z",
     "shell.execute_reply.started": "2021-10-17T12:35:02.285484Z"
    },
    "papermill": {
     "duration": 0.392225,
     "end_time": "2021-10-17T12:41:10.662268",
     "exception": false,
     "start_time": "2021-10-17T12:41:10.270043",
     "status": "completed"
    },
    "tags": []
   },
   "outputs": [
    {
     "name": "stdout",
     "output_type": "stream",
     "text": [
      "Predicted Value  :  6\n"
     ]
    },
    {
     "data": {
      "image/png": "[encoded data removed]",
      "text/plain": [
       "<Figure size 432x432 with 1 Axes>"
      ]
     },
     "metadata": {
      "needs_background": "light"
     },
     "output_type": "display_data"
    }
   ],
   "source": [
    "fig = plt.figure(figsize=(6,6))\n",
    "num = 50\n",
    "plt.imshow(X_test[num])\n",
    "print(\"Predicted Value  : \", pred[num])"
   ]
  },
  {
   "cell_type": "code",
   "execution_count": 18,
   "id": "24f9b268",
   "metadata": {
    "execution": {
     "iopub.execute_input": "2021-10-17T12:41:11.084189Z",
     "iopub.status.busy": "2021-10-17T12:41:11.059257Z",
     "iopub.status.idle": "2021-10-17T12:41:11.135009Z",
     "shell.execute_reply": "2021-10-17T12:41:11.134595Z",
     "shell.execute_reply.started": "2021-10-17T12:39:34.185510Z"
    },
    "papermill": {
     "duration": 0.279451,
     "end_time": "2021-10-17T12:41:11.135122",
     "exception": false,
     "start_time": "2021-10-17T12:41:10.855671",
     "status": "completed"
    },
    "tags": []
   },
   "outputs": [],
   "source": [
    "df_submission = pd.DataFrame()\n",
    "ID = [i for i in range(1, pred.shape[0]+1)]\n",
    "\n",
    "df_submission['Image ID'] = ID\n",
    "df_submission['Label'] = pred\n",
    "\n",
    "df_submission.to_csv(\"submission.csv\", index=False)"
   ]
  },
  {
   "cell_type": "code",
   "execution_count": null,
   "id": "5578ea27",
   "metadata": {
    "papermill": {
     "duration": 0.192333,
     "end_time": "2021-10-17T12:41:11.556758",
     "exception": false,
     "start_time": "2021-10-17T12:41:11.364425",
     "status": "completed"
    },
    "tags": []
   },
   "outputs": [],
   "source": []
  }
 ],
 "metadata": {
  "kernelspec": {
   "display_name": "Python 3",
   "language": "python",
   "name": "python3"
  },
  "language_info": {
   "codemirror_mode": {
    "name": "ipython",
    "version": 3
   },
   "file_extension": ".py",
   "mimetype": "text/x-python",
   "name": "python",
   "nbconvert_exporter": "python",
   "pygments_lexer": "ipython3",
   "version": "3.7.10"
  },
  "papermill": {
   "default_parameters": {},
   "duration": 73.663807,
   "end_time": "2021-10-17T12:41:14.972058",
   "environment_variables": {},
   "exception": null,
   "input_path": "__notebook__.ipynb",
   "output_path": "__notebook__.ipynb",
   "parameters": {},
   "start_time": "2021-10-17T12:40:01.308251",
   "version": "2.3.3"
  }
 },
 "nbformat": 4,
 "nbformat_minor": 5
}
